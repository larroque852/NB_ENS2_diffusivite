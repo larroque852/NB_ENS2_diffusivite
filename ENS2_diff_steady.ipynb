{
 "cells": [
  {
   "cell_type": "markdown",
   "metadata": {},
   "source": [
    "<figure>\n",
    "  <IMG SRC=\"LogoENSEGID.png\" WIDTH=125 ALIGN=\"right\">\n",
    "</figure>\n",
    "\n",
    "# HYDRAULIQUE SOUTERRAINE\n",
    "\n",
    "    \n",
    "    \n",
    "Les principales équations régissant les écoulements souterrains au sein des formations géologiques sont abordées. L'analyse mathématique utlisée pour résoudre des problèmes hydrogéologiques est présentée pour des cas simples.\n",
    "Au menu:\n",
    "1.  <a href='#nappe_captive'>Ecoulement permanent en nappe captive</a>\n",
    "2.  <a href='#nappe_libre'>Ecoulement permanent en nappe libre</a>"
   ]
  },
  {
   "cell_type": "markdown",
   "metadata": {},
   "source": [
    "<a id='nappe_captive'></a>\n",
    "## 1. Ecoulement mono-dimensionnel en régime permanent en nappe captive\n",
    "\n",
    "On considère un aquifère d'épaisseur constante b = 20 mètres. Le niveau piézométrique chute de 5 mètres entre 2 piézomètres situés à 500 m de distance. La conductivité hydraulique est K = 1e-4 m/s et la porosité efficace est de 0.15.\n",
    "Le modèle conceptuel est donné ci-après.\n",
    "\n",
    "\n",
    "<figure>\n",
    "  <IMG SRC=\"laplace_captif.png\" WIDTH=800 ALIGN=\"center\">\n",
    "</figure>\n"
   ]
  },
  {
   "cell_type": "code",
   "execution_count": 1,
   "metadata": {},
   "outputs": [],
   "source": [
    "import numpy as np\n",
    "import scipy.special as sp\n",
    "import matplotlib.pyplot as plt\n",
    "\n",
    "K = 1e-4 # m/s\n",
    "b = 20 #metres\n",
    "T = K * b * 86400 #m2/j\n",
    "omega = 0.15\n",
    "\n",
    "h0 = 20 #mNG\n",
    "hL = 15 #mNG\n",
    "L = 500 #m\n"
   ]
  },
  {
   "cell_type": "markdown",
   "metadata": {},
   "source": [
    "### Question 1.a\n",
    "\n",
    "Retrouver l'équation de la hauteur piézométrique entre les 2 piézomètres en considérant un écoulement en régime permanent et tracer le profil piézométrique entre les deux piézométres\n"
   ]
  },
  {
   "cell_type": "markdown",
   "metadata": {},
   "source": [
    "\n",
    "#### Utilisation de l'équation de diffusivité\n",
    "    \n",
    "Pour un écoulement monodimensionnel, l'équation de diffusivité peut s'écrire (Eq.1):\n",
    "\n",
    "$$\n",
    "\\frac{d^2 h}{dx^2} = \\frac{S}{Kb} \\frac{dh}{dt}\n",
    "$$\n",
    "\n",
    "Pour une nappe captive, si l'aquifère présente une épaisseur constante, le produit $Kb$  qui correspond à la transmissivité est constant et est indépendant de la hauteur piézométrique $h$.\n",
    "\n",
    "Le régime d'écoulement considéré dans le cas présent est permanent (pas de variation au cours du temps), donc (Eq.2):\n",
    "\n",
    "$$\n",
    "\\frac{dh}{dt} = 0\n",
    "$$\n",
    "\n",
    "et en combinant l'équation (1) et (2), on obtient (Eq.3):\n",
    "\n",
    "$$\n",
    "\\frac{d^2 h}{dx^2} = 0\n",
    "$$\n",
    "\n",
    "L'équation (3) constitue l'équation de Laplace 1D.\n",
    "\n",
    "Pour le modèle conceptuel considéré, nous retenons les conditions limites suivantes:\n",
    "- $ h = h_0 $ pour $ x = 0 $ (Eq.4)\n",
    "- $ h = h_L $ pour $ x = L $ (Eq.5)\n",
    "\n",
    "L'équation différentielle (3) peut être résolue à l'aide des conditions limites (4) et (5).\n",
    "En réécrivant l'équation (3) en (Eq.6):\n",
    "\n",
    "$$\n",
    "\\frac{d^2 h}{dx^2}  = 0 = \\frac{d \\left( {\\frac{dh}{dx}} \\right)}{dx}\n",
    "$$\n",
    "\n",
    "Par intégration de l'équation (6), on a (Eq.7):\n",
    "\n",
    "$$\n",
    " \\frac{dh}{dx} = 0 \\Longrightarrow \\frac{dh}{dx} = C\n",
    "$$\n",
    "\n",
    "avec C constante d'intégration.\n",
    "\n",
    "L'intégration de (7) amène (Eq.8)\n",
    "\n",
    "$$\n",
    "\\int_{}^{} \\frac{dh}{dx}{dx} = C \\Longrightarrow h(x) = Cx + D\n",
    "$$\n",
    "\n",
    "avec D deuxième constante d'intégration.\n",
    "\n",
    "Pour les conditions limites suivantes:\n",
    "- $ h = h_0 $ pour $ x = 0 $ donc $h(0) = C\\times0 + D $ soit $ D = h_0 $ (Eq.9)\n",
    "- $ h = h_L $ pour $ x = L $ donc $h(D) = C.L + h_0 $ soit $ D = \\frac{h_L - h_0}{L}$ (Eq.10)\n",
    "\n",
    "Finalement, par combinaison de Eq.8, Eq.9 et Eq.10, l'équation finale 1D de Laplace peut s'écrire pour le système conceptuel envisagé (Eq.11):\n",
    "\n",
    "$$\n",
    "h = \\frac{h_0 - h_L}{L}x + h_0\n",
    "$$\n",
    "    "
   ]
  },
  {
   "cell_type": "code",
   "execution_count": 2,
   "metadata": {},
   "outputs": [
    {
     "data": {
      "image/png": "[encoded data removed]",
      "text/plain": [
       "<Figure size 432x288 with 1 Axes>"
      ]
     },
     "metadata": {
      "needs_background": "light"
     },
     "output_type": "display_data"
    }
   ],
   "source": [
    "#profil piézométrique\n",
    "\n",
    "x = np.arange(1,L,1)\n",
    "h = h0 - ((h0 - hL)/L) * x\n",
    "\n",
    "plt.title('Hauteur piézométrique - Nappe captive')\n",
    "plt.xlabel('x (m)')\n",
    "plt.ylabel('h (m NG)')\n",
    "\n",
    "plt.grid()\n",
    "plt.plot(x,h)\n",
    "plt.show()"
   ]
  },
  {
   "cell_type": "markdown",
   "metadata": {},
   "source": [
    "### Question 1.b\n",
    "\n",
    "Déterminer le débit transitant au sein de l'aquifère en considérant un front d'emprunt de 10 m de large\n"
   ]
  },
  {
   "cell_type": "markdown",
   "metadata": {},
   "source": [
    "\n",
    "Par application de la loi de Darcy, le débit $Q$ transitant à travers l'aquifère par largeur unitaire peut être exprimé par (Eq.1):\n",
    "    \n",
    "$$\n",
    "Q = -Kb\\frac{dh}{dx}\n",
    "$$\n",
    "\n",
    "l'équation (1) peut être utilisée pour estimer le débit $Q$ transitant au sein de la nappe si on connaît les valeurs $h_0$ et $h_L$ en deux points de la nappe distants de $L$ (Eq.2):\n",
    "$$\n",
    "Q = Kb\\left({ \\frac{h_0 - h_L}{L}} \\right)\n",
    "$$\n",
    "soit pour un front d'écoulement $W = 10$ mètres:\n",
    "\n",
    "$$\n",
    "Q_W = Q W\n",
    "$$\n"
   ]
  },
  {
   "cell_type": "code",
   "execution_count": 3,
   "metadata": {},
   "outputs": [
    {
     "name": "stdout",
     "output_type": "stream",
     "text": [
      "Le débit transitant au sein de l\"aquifère est Q = 17.3 m3/jour\n"
     ]
    }
   ],
   "source": [
    "# debit transitant dans l'aquifere sur 10 m de front d'emprunt\n",
    "Q = (T * (h0-hL)/L) * 10\n",
    "\n",
    "print('Le débit transitant au sein de l\"aquifère est Q = {:.3g} m3/jour'.format(Q))\n"
   ]
  },
  {
   "cell_type": "markdown",
   "metadata": {},
   "source": [
    "### Question 1.c\n",
    "\n",
    "Déterminer la vitesse de circulation du fluide au sein de l'aquifère"
   ]
  },
  {
   "cell_type": "markdown",
   "metadata": {},
   "source": [
    "La vitesse de circulation réelle $u$ est obtnue à partir de la vitesse de Darcy $q = Q/A$ et de la porosité efficace $\\omega$:\n",
    "$$\n",
    "u = q / \\omega\n",
    "$$"
   ]
  },
  {
   "cell_type": "code",
   "execution_count": 4,
   "metadata": {},
   "outputs": [
    {
     "name": "stdout",
     "output_type": "stream",
     "text": [
      "vitesse de circulation du fluide au sein de l\"aquifère u = 0.576 m/jour\n"
     ]
    }
   ],
   "source": [
    "# vitesse de circulation du fluide au sein de l'aquifère\n",
    "\n",
    "u = (K * (h0-hL)/L) / omega * 86400\n",
    "\n",
    "print('vitesse de circulation du fluide au sein de l\"aquifère u = {:.3g} m/jour'.format(u))\n"
   ]
  },
  {
   "cell_type": "markdown",
   "metadata": {},
   "source": [
    "<a id='nappe_libre'></a>\n",
    "\n",
    "## 2. Ecoulement mono-dimensionnel en régime permanent en nappe libre\n",
    "\n",
    "\n",
    "<figure>\n",
    "  <IMG SRC=\"laplace_libre.png\" WIDTH=800 ALIGN=\"center\">\n",
    "</figure>\n",
    "\n",
    "On considère une nappe libre homogène en connexion hydraulique avec 2 plans d'eau distant de $L = {500}$ mètres. Les épaisseurs saturées au niveau  des plans d'eau sont $H_0 = 20$ mètres  et $H_L = 15$ mètres. L'aquifère peut être soumis à une recharge pluviométrique homogène N (mètre d'eau).\n"
   ]
  },
  {
   "cell_type": "markdown",
   "metadata": {},
   "source": [
    "### Question 2.a\n",
    "\n",
    "Retrouver l'équation de la hauteur piézométrique entre les 2 plans d'eau en considérant un écoulement en régime permanent, sans recharge pluviométrique puis en prenant en compte une recharge pluviométrique homogène N sur l'aquifère;"
   ]
  },
  {
   "cell_type": "markdown",
   "metadata": {},
   "source": [
    "#### Utilisation de l'équation de diffusivité\n",
    "\n",
    "On souhaite exprimer la distribution spatiale de la hauteur piézométrique au sein d'une nappe libre homogène pour un écoulement en régime permanent. La nappe peut être soumise à une recharge uniforme deouis la surface.\n",
    "Le modèle conceptuel est donné ci-après.\n",
    "\n",
    "<figure>\n",
    "  <IMG SRC=\"2Drechargeb.png\" WIDTH=600 ALIGN=\"center\">\n",
    "</figure>\n",
    "\n",
    "Pour un écoulement monodimensionnel en nappe libre en prenant en compte un terme puits/source N (recharge), l'équation de diffusivité peut s'écrire (Eq.1):\n",
    "\n",
    "$$\n",
    "\\frac{\\partial}{\\partial x}\\left(Kh\t\\frac{\\partial h}{\\partial x}\\right) + N = S\t\\frac{\\partial h}{\\partial t}\n",
    "$$\n",
    "\n",
    "En réarragenacant les termes et en passant aux dérivées totales, l'équation (1) peut se réécrire pour procéder à sa résolution:\n",
    "$$    \n",
    "\\frac{\\partial}{\\partial x}\\left(Kh\t\\frac{\\partial h}{\\partial x}\\right) + N = 0   \n",
    "$$\n",
    "$$    \n",
    "\\frac{d}{d x}\\left(h\\frac{d h}{d x}\\right)  = -\\frac{N}{K}\n",
    "$$\n",
    "\n",
    "Les primitives successives sont:\n",
    "$$\n",
    "h\\frac{d h}{d x} = -\\frac{N}{K}x + C_1\n",
    "$$\n",
    "    \n",
    "et\n",
    "    \n",
    "$$\n",
    "h^2 = -\\frac{N}{K}x^2 + C_1 x + C_2\n",
    "$$\n",
    "\n",
    "    \n",
    "Pour le modèle considéré, nous retenons les conditions limites suivantes:\n",
    "- $ h = h_0 $ pour $ x = 0 $ \n",
    "- $ h = h_L $ pour $ x = L $\n",
    "    \n",
    "La résolution de la primitive pour les conditions limites amène à l'équation de la surface piézométrique suivante pour la nappe libre soumise à recharge:\n",
    "$$\n",
    "h = \\sqrt{h_0^2 + \\frac{h_L^2-h_0^2}{L}x - \\frac{N}{K}(L-x)x}\n",
    "$$"
   ]
  },
  {
   "cell_type": "markdown",
   "metadata": {},
   "source": [
    "### Question 2.b\n",
    "\n",
    "Tracer le profil piézométrique entre les 2 cours d'eau en considérant une recharge efficace $N = 1$ mm d'eau"
   ]
  },
  {
   "cell_type": "code",
   "execution_count": 12,
   "metadata": {},
   "outputs": [
    {
     "data": {
      "image/png": "[encoded data removed]",
      "text/plain": [
       "<Figure size 432x288 with 1 Axes>"
      ]
     },
     "metadata": {
      "needs_background": "light"
     },
     "output_type": "display_data"
    }
   ],
   "source": [
    "import numpy as np\n",
    "import scipy.special as sp\n",
    "import matplotlib.pyplot as plt\n",
    "\n",
    "K = 1e-4*86400 #m/j\n",
    "h0 = 20 #mNG\n",
    "hL = 15 #mNG\n",
    "N = - 0.001 #m H2O (signe - signifie entree dans le systeme / on peut changer la convention en modifiant le signe de N dans l'equation)\n",
    "L = 500 #m\n",
    "\n",
    "# profil piézométrique\n",
    "x = np.arange(1,500,1)\n",
    "h = np.sqrt(h0 **2 + ((hL ** 2 - h0 ** 2)/(L)) * x - N/K* (L-x)*x)\n",
    "\n",
    "plt.title('Hauteur piézométrique - Nappe libre soumise à recharge')\n",
    "plt.xlabel('x (m)')\n",
    "plt.ylabel('h (m NG)')\n",
    "\n",
    "plt.grid()\n",
    "plt.plot(x,h)\n",
    "plt.show()\n"
   ]
  },
  {
   "cell_type": "markdown",
   "metadata": {},
   "source": [
    "### Question 2.b\n",
    "\n",
    "Dans le cas où la recharge est nulle, quel est le débit transitant au sein de l'aquifère pour un front d'écoulement unitaire $W=1$?"
   ]
  },
  {
   "cell_type": "markdown",
   "metadata": {},
   "source": [
    "- Débit transitant au sein de l'aquifère à mi-chemin ($x=x_{mid}$)\n",
    "\n",
    "Equation de Darcy:\n",
    "$$\n",
    "q = -K\\frac{dh}{dx}hW = -Kh\\frac{dh}{dx}\n",
    "$$\n",
    "\n",
    "Après ré-arrangement pour intégration:\n",
    "$$\n",
    "qdx = -Khdh\n",
    "$$\n",
    "\n",
    "Et pour les bornes\n",
    "- $ h = h_0 $ pour $ x = 0 $ \n",
    "- $ h = h_L $ pour $ x = x_L $\n",
    "\n",
    "$$\n",
    "\\int_{0}^{x_L} {q}\\mathrm{d}x = \\int_{h_0}^{h_{x_L}} {-Kh}\\mathrm{d}h\n",
    "$$\n",
    "\n",
    "$$\n",
    "ql_m  = -K \\left({\\frac{h^2_{x_L} - h^2_0}{2}} \\right)\n",
    "$$\n",
    "\n",
    "$$\n",
    "q  = - \\frac{K}{2x_L} \\left({h^2_{x_L} - h^2_0} \\right)\n",
    "$$\n",
    "\n"
   ]
  },
  {
   "cell_type": "code",
   "execution_count": 2,
   "metadata": {},
   "outputs": [
    {
     "name": "stdout",
     "output_type": "stream",
     "text": [
      "Le débit transitant au sein de l aquifère à lexutoire est Q = 1.51 m3/jour\n"
     ]
    }
   ],
   "source": [
    "import numpy as np\n",
    "import scipy.special as sp\n",
    "import matplotlib.pyplot as plt\n",
    "\n",
    "K = 1e-4*86400 #m/j\n",
    "h0 = 20 #mNG\n",
    "hL = 15 #mNG\n",
    "N =  -0 #m H2O\n",
    "L = 500 #m\n",
    "\n",
    "qex = -(K/(2*L))*(hL ** 2 - h0 ** 2)\n",
    "\n",
    "print('Le débit transitant au sein de l'' aquifère à l''exutoire est Q = {:.3g} m3/jour'.format(qex))\n",
    "\n"
   ]
  },
  {
   "cell_type": "code",
   "execution_count": null,
   "metadata": {},
   "outputs": [],
   "source": []
  },
  {
   "cell_type": "code",
   "execution_count": null,
   "metadata": {},
   "outputs": [],
   "source": []
  }
 ],
 "metadata": {
  "kernelspec": {
   "display_name": "Python 3",
   "language": "python",
   "name": "python3"
  },
  "language_info": {
   "codemirror_mode": {
    "name": "ipython",
    "version": 3
   },
   "file_extension": ".py",
   "mimetype": "text/x-python",
   "name": "python",
   "nbconvert_exporter": "python",
   "pygments_lexer": "ipython3",
   "version": "3.8.3"
  }
 },
 "nbformat": 4,
 "nbformat_minor": 4
}
